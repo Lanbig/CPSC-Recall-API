{
 "cells": [
  {
   "cell_type": "markdown",
   "metadata": {
    "collapsed": true
   },
   "source": [
    "# CPSC Recall API\n",
    "\n",
    "CPSC provides accessibility to recalls via a recall database. The information is publicly available to consumers and businesses as well as software and application developers. The Commission recently worked towards a new and improved recalls API implemented as REST web services.  The recall data can be retrieved in XML or in JSON.  The API provides machine readable access to publicly available recall information visible on cpsc.gov. \n",
    "\n",
    "https://www.cpsc.gov/Recalls/CPSC-Recalls-Application-Program-Interface-API-Information"
   ]
  },
  {
   "cell_type": "code",
   "execution_count": 153,
   "metadata": {},
   "outputs": [],
   "source": [
    "import urllib.request\n",
    "import json\n",
    "import pandas as pd\n",
    "import numpy as np\n",
    "from functools import reduce"
   ]
  },
  {
   "cell_type": "code",
   "execution_count": 45,
   "metadata": {},
   "outputs": [],
   "source": [
    "def downloadRecallData():\n",
    "    # Connect to Recall API\n",
    "    url = 'https://www.saferproducts.gov/RestWebServices/Recall?format=json'\n",
    "    req = urllib.request.Request(url) \n",
    "    \n",
    "    # Parsing JSON format\n",
    "    r = urllib.request.urlopen(req).read()\n",
    "    cont = json.loads(r.decode('utf-8'))\n",
    "    \n",
    "    print(\"API URL: \", url)\n",
    "    print(\"Number of data: \", len(cont))\n",
    "    \n",
    "    return(cont)"
   ]
  },
  {
   "cell_type": "code",
   "execution_count": 56,
   "metadata": {},
   "outputs": [],
   "source": [
    "def extractRecall(cont):\n",
    "    ConsumerContact = []\n",
    "    Description = []\n",
    "    Hazards = []\n",
    "    Images = []\n",
    "    Inconjunctions = []\n",
    "    Injuries = []\n",
    "    LastPublishDate = []\n",
    "    ManufacturerCountries = []\n",
    "    Manufacturers = []\n",
    "    ProductUPCs = []\n",
    "    Products = []\n",
    "    RecallDate = []\n",
    "    RecallID = []\n",
    "    RecallNumber = []\n",
    "    Remedies = []\n",
    "    Retailers = []\n",
    "    Title = []\n",
    "    URL = []\n",
    "    \n",
    "    for i in cont:\n",
    "        ConsumerContact.append(i['ConsumerContact']) \n",
    "        Description.append(i['Description']) \n",
    "        Hazards.append(i['Hazards']) \n",
    "        Images.append(i['Images'])\n",
    "        Inconjunctions.append(i['Inconjunctions'])\n",
    "        Injuries.append(i['Injuries'])\n",
    "        LastPublishDate.append(i['LastPublishDate'])\n",
    "        ManufacturerCountries.append(i['ManufacturerCountries'])\n",
    "        Manufacturers.append(i['Manufacturers'])\n",
    "        ProductUPCs .append(i['ProductUPCs'])\n",
    "        Products.append(i['Products'])\n",
    "        RecallDate.append(i['RecallDate'])\n",
    "        RecallID.append(i['RecallID'])\n",
    "        RecallNumber.append(i['RecallNumber'])\n",
    "        Remedies.append(i['Remedies'])\n",
    "        Retailers.append(i['Retailers'])\n",
    "        Title.append(i['Title'])\n",
    "        URL.append(i['URL'])\n",
    "    \n",
    "    \n",
    "    df = pd.DataFrame({\n",
    "        'ConsumerContact': ConsumerContact,\n",
    "        'Description': Description,\n",
    "        'Hazards': Hazards,\n",
    "        'Images': Images,\n",
    "        'Inconjunctions': Inconjunctions,\n",
    "        'Injuries': Injuries,\n",
    "        'LastPublishDate': LastPublishDate,\n",
    "        'ManufacturerCountries': ManufacturerCountries,\n",
    "        'Manufacturers': Manufacturers,\n",
    "        'ProductUPCs': ProductUPCs,\n",
    "        'Products' : Products,\n",
    "        'RecallDate': RecallDate,\n",
    "        'RecallID' : RecallID,\n",
    "        'RecallNumber' : RecallNumber,\n",
    "        'Remedies': Remedies,\n",
    "        'Retailers': Retailers,\n",
    "        'Title' : Title,\n",
    "        'URL' : URL,\n",
    "        })\n",
    "        \n",
    "    return(df)"
   ]
  },
  {
   "cell_type": "code",
   "execution_count": 213,
   "metadata": {},
   "outputs": [],
   "source": [
    "def extract2Recall(cont):\n",
    "    \n",
    "    Hazards_Name = []\n",
    "    Hazard_TypeID = []\n",
    "    for index,item in cont.iterrows():\n",
    "        try:\n",
    "            print(item['Hazards'][0])\n",
    "            converttojson = str(item['Hazards'][0]).replace('\\'','\\\"')\n",
    "            \n",
    "            Hazards_Name.append(json.loads(converttojson)['Name'])\n",
    "            Hazard_TypeID.append(json.loads(converttojson)['HazardTypeID'])\n",
    "            \n",
    "        except (IndexError) as e:\n",
    "            Hazards_Name.append(None)\n",
    "            Hazard_TypeID.append(None)\n",
    "    \n",
    "    df = pd.DataFrame({\n",
    "        'Hazards_Name': Hazards_Name,\n",
    "        'Hazard_TypeID': Hazard_TypeID, \n",
    "        })\n",
    "    \n",
    "    return(df)"
   ]
  },
  {
   "cell_type": "code",
   "execution_count": 200,
   "metadata": {},
   "outputs": [
    {
     "name": "stdout",
     "output_type": "stream",
     "text": [
      "API URL:  https://www.saferproducts.gov/RestWebServices/Recall?format=json\n",
      "Number of data:  7115\n"
     ]
    }
   ],
   "source": [
    "data = downloadRecallData()"
   ]
  },
  {
   "cell_type": "code",
   "execution_count": 214,
   "metadata": {},
   "outputs": [],
   "source": [
    "dataExt = extractRecall(data)"
   ]
  },
  {
   "cell_type": "code",
   "execution_count": 231,
   "metadata": {},
   "outputs": [],
   "source": [
    "#dataExt2 = extract2Recall(dataExt)"
   ]
  },
  {
   "cell_type": "code",
   "execution_count": 229,
   "metadata": {},
   "outputs": [
    {
     "name": "stdout",
     "output_type": "stream",
     "text": [
      "{\"Name\": \"The handlebars can crack, posing a fall hazard to the consumer.\", \"HazardTypeID\": \"\"}\n"
     ]
    },
    {
     "data": {
      "text/plain": [
       "{'HazardTypeID': '',\n",
       " 'Name': 'The handlebars can crack, posing a fall hazard to the consumer.'}"
      ]
     },
     "execution_count": 229,
     "metadata": {},
     "output_type": "execute_result"
    }
   ],
   "source": [
    "s = str({'Name': 'The handlebars can crack, posing a fall hazard to the consumer.', 'HazardTypeID': ''}).replace('\\'','\\\"')\n",
    "print(s)\n",
    "json.loads(s)"
   ]
  },
  {
   "cell_type": "code",
   "execution_count": null,
   "metadata": {
    "collapsed": true
   },
   "outputs": [],
   "source": []
  }
 ],
 "metadata": {
  "kernelspec": {
   "display_name": "Python 3",
   "language": "python",
   "name": "python3"
  },
  "language_info": {
   "codemirror_mode": {
    "name": "ipython",
    "version": 3
   },
   "file_extension": ".py",
   "mimetype": "text/x-python",
   "name": "python",
   "nbconvert_exporter": "python",
   "pygments_lexer": "ipython3",
   "version": "3.6.1"
  }
 },
 "nbformat": 4,
 "nbformat_minor": 2
}
