{
 "cells": [
  {
   "cell_type": "code",
   "execution_count": 1,
   "metadata": {
    "collapsed": true
   },
   "outputs": [],
   "source": [
    "#https://www.cpsc.gov/Recalls/CPSC-Recalls-Application-Program-Interface-API-Information"
   ]
  },
  {
   "cell_type": "code",
   "execution_count": 62,
   "metadata": {
    "collapsed": true
   },
   "outputs": [],
   "source": [
    "import urllib.request\n",
    "import json"
   ]
  },
  {
   "cell_type": "code",
   "execution_count": 66,
   "metadata": {
    "collapsed": true
   },
   "outputs": [],
   "source": [
    "url = 'http://www.saferproducts.gov/RestWebServices/Recall?format=json'\n",
    "req = urllib.request.Request(url)"
   ]
  },
  {
   "cell_type": "code",
   "execution_count": 67,
   "metadata": {
    "collapsed": false
   },
   "outputs": [],
   "source": [
    "##parsing response\n",
    "r = urllib.request.urlopen(req).read()\n",
    "cont = json.loads(r.decode('utf-8'))"
   ]
  },
  {
   "cell_type": "code",
   "execution_count": 68,
   "metadata": {
    "collapsed": false
   },
   "outputs": [
    {
     "data": {
      "text/plain": [
       "7115"
      ]
     },
     "execution_count": 68,
     "metadata": {},
     "output_type": "execute_result"
    }
   ],
   "source": [
    "len(cont)"
   ]
  },
  {
   "cell_type": "code",
   "execution_count": 92,
   "metadata": {
    "collapsed": false
   },
   "outputs": [
    {
     "name": "stdout",
     "output_type": "stream",
     "text": [
      "Manufacture Name: \n",
      "Manufacture Name: Lithonia Lighting, a division of Acuity Brands Lighting Inc., of Conyers, Ga.\n",
      "Manufacture Name: Madison Mill Inc., of Ashland City, Tenn.\n",
      "Manufacture Name: Nidec Motor Corp., of St. Louis, Mo.\n",
      "Manufacture Name: Arctic Cat Inc., of Thief River Falls, Minn.\n",
      "Manufacture Name: \n",
      "Manufacture Name: \n",
      "Manufacture Name: Hongkong Sun Rise Trading Ltd., of China\n",
      "Manufacture Name: \n",
      "Manufacture Name: \n",
      "Manufacture Name: Rejuvenation Inc., of Portland, Ore., a division of Williams-Sonoma Inc., of San Francisco, Calif.\n",
      "Manufacture Name: \n",
      "Manufacture Name: \n",
      "Manufacture Name: PT Gimex Furniture Manufacturing Co., of Indonesia\n",
      "Manufacture Name: \n",
      "Manufacture Name: \n",
      "Manufacture Name: Pulse Performance Products, a division of Bravo Sports, of Santa Fe Springs, Calif.\n",
      "Manufacture Name: \n",
      "Manufacture Name: \n",
      "Manufacture Name: Cabrinha Kites, a subsidiary of Pryde Group Americas, of Doral, Fla.\n",
      "Manufacture Name: Douglas Company Inc., of Keene, N.H.\n",
      "Manufacture Name: \n",
      "Manufacture Name: \n",
      "Manufacture Name: Honeywell International Inc., of Northford, Conn.\n",
      "Manufacture Name: Shenzhen Jiayuanwei Electronic Co. Ltd., of China\n",
      "Manufacture Name: Carrier Corporation, of Jupiter, Fla.\n",
      "Manufacture Name: \n",
      "Manufacture Name: \n",
      "Manufacture Name: \n",
      "Manufacture Name: American Honda Motor Company Inc., of Torrance, Calif.\n",
      "Manufacture Name: Polaris Industries Inc., of Medina, Minn.\n",
      "Manufacture Name: Segway Inc., of Bedford, N.H.\n",
      "Manufacture Name: Springs Window Fashions LLC, of Middleton, Wisc. (window coverings), Great Power Battery (Zhuhai) Co., Ltd. of China (batteries)\n",
      "Manufacture Name: \n",
      "Manufacture Name: \n",
      "Manufacture Name: Goodman Manufacturing Company L.P., of Houston, Texas\n",
      "Manufacture Name: \n",
      "Manufacture Name: \n",
      "Manufacture Name: \n",
      "Manufacture Name: \n",
      "Manufacture Name: \n",
      "Manufacture Name: \n",
      "Manufacture Name: \n",
      "Manufacture Name: \n",
      "Manufacture Name: \n",
      "Manufacture Name: \n",
      "Manufacture Name: Polaris Industries Inc., of Medina, Minn.\n",
      "Manufacture Name: \n",
      "Manufacture Name: \n",
      "Manufacture Name: PPJ, LLC; d.b.a Customatic Beds of Natick, Mass.\n",
      "Manufacture Name: \n",
      "Manufacture Name: Deere &amp; Company of Moline, Ill.\n",
      "Manufacture Name: \n",
      "Manufacture Name: \n",
      "Manufacture Name: \n",
      "Manufacture Name: Xootr of Old Forge, Pa.\n",
      "Manufacture Name: \n",
      "Manufacture Name: \n",
      "Manufacture Name: Rexon Industrial Corp., Ltd. of Taiwan\n",
      "Manufacture Name: \n",
      "Manufacture Name: \n",
      "Manufacture Name: \n",
      "Manufacture Name: \n",
      "Manufacture Name: \n",
      "Manufacture Name: \n",
      "Manufacture Name: Amphenol Industrial Solar Technologies, of Shenzhen, China (connectors) and SolarWorld Americas Inc., of Hillsboro, Ore. (solar panels)\n",
      "Manufacture Name: \n",
      "Manufacture Name: \n",
      "Manufacture Name: \n",
      "Manufacture Name: Vecaro LifeStyle, of Cerritos, Calif.\n",
      "Manufacture Name: Suzhou Zhongchuang Aluminium Products Co. Ltd. and Suzhou PICA Aluminum Industry Ltd., of China\n",
      "Manufacture Name: \n",
      "Manufacture Name: \n",
      "Manufacture Name: \n",
      "Manufacture Name: \n",
      "Manufacture Name: \n",
      "Manufacture Name: Shanghai Minmetals, of China\n",
      "Manufacture Name: \n",
      "Manufacture Name: \n",
      "Manufacture Name: Rexon Industrial Corp., Ltd. of Taiwan\n",
      "Manufacture Name: \n",
      "Manufacture Name: Goodman Company L.P., of Fayetteville, Tenn. and Goodman Manufacturing Company L.P., of Houston, Texas\n",
      "Manufacture Name: \n",
      "Manufacture Name: Techtronic Industries (Dongguan) Co. Ltd., of China\n",
      "Manufacture Name: \n",
      "Manufacture Name: \n",
      "Manufacture Name: \n",
      "Manufacture Name: \n",
      "Manufacture Name: \n",
      "Manufacture Name: Carrier Corporation, of Jupiter, Fla.\n",
      "Manufacture Name: Little Tikes, of Hudson, Ohio\n",
      "Manufacture Name: ANDREAS STIHL AG &amp; Co. KG\n",
      "Manufacture Name: Calphalon Corp., of Atlanta, Ga.\n",
      "Manufacture Name: Moose Toys Proprietary Ltd., of Australia\n",
      "Manufacture Name: \n",
      "Manufacture Name: \n",
      "Manufacture Name: \n",
      "Manufacture Name: \n",
      "Manufacture Name: \n",
      "Manufacture Name: \n"
     ]
    }
   ],
   "source": [
    "for item in cont[0:100]:\n",
    "    try:\n",
    "        jsondata = str(item['Manufacturers'][0]).replace('\\'','\\\"')\n",
    "        data = json.loads(jsondata)['Name']\n",
    "    except IndexError:\n",
    "        data = ''\n",
    "        \n",
    "    print(\"Manufacture Name:\",data)"
   ]
  },
  {
   "cell_type": "code",
   "execution_count": 87,
   "metadata": {
    "collapsed": true
   },
   "outputs": [],
   "source": [
    "try:\n",
    "    data = str(cont[0]['Manufacturers'][0]).replace('\\'','\\\"')\n",
    "except IndexError:\n",
    "    data = 'null'"
   ]
  },
  {
   "cell_type": "code",
   "execution_count": 86,
   "metadata": {
    "collapsed": false
   },
   "outputs": [
    {
     "data": {
      "text/plain": [
       "{'CompanyID': '', 'Name': 'Arctic Cat Inc., of Thief River Falls, Minn.'}"
      ]
     },
     "execution_count": 86,
     "metadata": {},
     "output_type": "execute_result"
    }
   ],
   "source": [
    "cont[4]['Manufacturers'][0]"
   ]
  },
  {
   "cell_type": "code",
   "execution_count": 75,
   "metadata": {
    "collapsed": false
   },
   "outputs": [
    {
     "data": {
      "text/plain": [
       "'Lithonia Lighting, a division of Acuity Brands Lighting Inc., of Conyers, Ga.'"
      ]
     },
     "execution_count": 75,
     "metadata": {},
     "output_type": "execute_result"
    }
   ],
   "source": [
    "json.loads(data)['Name']"
   ]
  },
  {
   "cell_type": "code",
   "execution_count": 31,
   "metadata": {
    "collapsed": false
   },
   "outputs": [],
   "source": [
    "all_keys = set().union(*(d.keys() for d in cont))"
   ]
  },
  {
   "cell_type": "code",
   "execution_count": 32,
   "metadata": {
    "collapsed": false
   },
   "outputs": [
    {
     "data": {
      "text/plain": [
       "{'ConsumerContact',\n",
       " 'Description',\n",
       " 'Hazards',\n",
       " 'Images',\n",
       " 'Inconjunctions',\n",
       " 'Injuries',\n",
       " 'LastPublishDate',\n",
       " 'ManufacturerCountries',\n",
       " 'Manufacturers',\n",
       " 'ProductUPCs',\n",
       " 'Products',\n",
       " 'RecallDate',\n",
       " 'RecallID',\n",
       " 'RecallNumber',\n",
       " 'Remedies',\n",
       " 'Retailers',\n",
       " 'Title',\n",
       " 'URL'}"
      ]
     },
     "execution_count": 32,
     "metadata": {},
     "output_type": "execute_result"
    }
   ],
   "source": [
    "all_keys"
   ]
  },
  {
   "cell_type": "code",
   "execution_count": null,
   "metadata": {
    "collapsed": true
   },
   "outputs": [],
   "source": []
  }
 ],
 "metadata": {
  "kernelspec": {
   "display_name": "Python [conda env:py3]",
   "language": "python",
   "name": "conda-env-py3-py"
  },
  "language_info": {
   "codemirror_mode": {
    "name": "ipython",
    "version": 3
   },
   "file_extension": ".py",
   "mimetype": "text/x-python",
   "name": "python",
   "nbconvert_exporter": "python",
   "pygments_lexer": "ipython3",
   "version": "3.6.1"
  }
 },
 "nbformat": 4,
 "nbformat_minor": 2
}
